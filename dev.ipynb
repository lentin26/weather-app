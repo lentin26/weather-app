{
 "cells": [
  {
   "cell_type": "code",
   "execution_count": 5,
   "metadata": {},
   "outputs": [],
   "source": [
    "import pandas as pd\n",
    "import requests\n",
    "from dotenv import load_dotenv\n",
    "import os\n",
    "from db_config import get_redis_connection\n",
    "import matplotlib.pyplot as plt"
   ]
  },
  {
   "cell_type": "code",
   "execution_count": 2,
   "metadata": {},
   "outputs": [],
   "source": [
    "# connect to redis\n",
    "redis_conn = get_redis_connection()"
   ]
  },
  {
   "cell_type": "code",
   "execution_count": 8,
   "metadata": {},
   "outputs": [
    {
     "data": {
      "text/html": [
       "<div>\n",
       "<style scoped>\n",
       "    .dataframe tbody tr th:only-of-type {\n",
       "        vertical-align: middle;\n",
       "    }\n",
       "\n",
       "    .dataframe tbody tr th {\n",
       "        vertical-align: top;\n",
       "    }\n",
       "\n",
       "    .dataframe thead th {\n",
       "        text-align: right;\n",
       "    }\n",
       "</style>\n",
       "<table border=\"1\" class=\"dataframe\">\n",
       "  <thead>\n",
       "    <tr style=\"text-align: right;\">\n",
       "      <th></th>\n",
       "      <th>longitude</th>\n",
       "      <th>latitude</th>\n",
       "      <th>city</th>\n",
       "      <th>state</th>\n",
       "      <th>country</th>\n",
       "    </tr>\n",
       "  </thead>\n",
       "  <tbody>\n",
       "    <tr>\n",
       "      <th>0</th>\n",
       "      <td>42.536457</td>\n",
       "      <td>-70.985786</td>\n",
       "      <td>Peabody</td>\n",
       "      <td>MA</td>\n",
       "      <td>USA</td>\n",
       "    </tr>\n",
       "    <tr>\n",
       "      <th>1</th>\n",
       "      <td>42.328674</td>\n",
       "      <td>-72.664658</td>\n",
       "      <td>Northampton</td>\n",
       "      <td>MA</td>\n",
       "      <td>USA</td>\n",
       "    </tr>\n",
       "    <tr>\n",
       "      <th>2</th>\n",
       "      <td>42.341042</td>\n",
       "      <td>-71.217133</td>\n",
       "      <td>Newton</td>\n",
       "      <td>MA</td>\n",
       "      <td>USA</td>\n",
       "    </tr>\n",
       "    <tr>\n",
       "      <th>3</th>\n",
       "      <td>42.810356</td>\n",
       "      <td>-70.893875</td>\n",
       "      <td>Newburyport</td>\n",
       "      <td>MA</td>\n",
       "      <td>USA</td>\n",
       "    </tr>\n",
       "    <tr>\n",
       "      <th>4</th>\n",
       "      <td>41.638409</td>\n",
       "      <td>-70.941208</td>\n",
       "      <td>New Bedford</td>\n",
       "      <td>MA</td>\n",
       "      <td>USA</td>\n",
       "    </tr>\n",
       "  </tbody>\n",
       "</table>\n",
       "</div>"
      ],
      "text/plain": [
       "   longitude   latitude         city state country\n",
       "0  42.536457 -70.985786      Peabody    MA     USA\n",
       "1  42.328674 -72.664658  Northampton    MA     USA\n",
       "2  42.341042 -71.217133       Newton    MA     USA\n",
       "3  42.810356 -70.893875  Newburyport    MA     USA\n",
       "4  41.638409 -70.941208  New Bedford    MA     USA"
      ]
     },
     "execution_count": 8,
     "metadata": {},
     "output_type": "execute_result"
    }
   ],
   "source": [
    "# get lat and long coordinates of us cities\n",
    "# https://www.latlong.net/category/cities-236-15.html\n",
    "city_coordinates = pd.read_csv('data/us_cities.txt', delimiter='\\t', names=['city_state_country', 'longitude', 'latitude'])\n",
    "\n",
    "# split city_state_country into separate city, state and country columns\n",
    "splits = city_coordinates.city_state_country.str.split(',')\n",
    "city_coordinates['city'] = splits.apply(lambda x: x[0])\n",
    "city_coordinates['state'] = splits.apply(lambda x: x[1])\n",
    "city_coordinates['country'] = splits.apply(lambda x: x[2])\n",
    "\n",
    "# drop city_state_country\n",
    "city_coordinates.drop('city_state_country', axis=1, inplace=True)\n",
    "\n",
    "# write back as clean csv\n",
    "city_coordinates.to_csv('data/us_cities_clean.csv')\n",
    "city_coordinates.head()"
   ]
  },
  {
   "cell_type": "code",
   "execution_count": 25,
   "metadata": {},
   "outputs": [
    {
     "data": {
      "text/plain": [
       "200"
      ]
     },
     "execution_count": 25,
     "metadata": {},
     "output_type": "execute_result"
    }
   ],
   "source": [
    "# hist weather api and explore data\n",
    "# https://app.tomorrow.io/home\n",
    "# https://docs.tomorrow.io/reference/welcome?ref=apilist.fun\n",
    "# curl --request GET --url 'https://api.tomorrow.io/v4/weather/forecast?location=42.3478,-71.0466&apikey=Spkfris4dB0T2vgoA63St81ITDEfLubv'\n",
    "URL = 'https://api.tomorrow.io/v4/weather/forecast?location=42.3478,-71.0466&apikey=Spkfris4dB0T2vgoA63St81ITDEfLubv'\n",
    "\n",
    "r = requests.get(URL)\n",
    "r.status_code"
   ]
  },
  {
   "cell_type": "code",
   "execution_count": 5,
   "metadata": {},
   "outputs": [
    {
     "data": {
      "text/plain": [
       "{'lat': 42.3478, 'lon': -71.0466}"
      ]
     },
     "execution_count": 5,
     "metadata": {},
     "output_type": "execute_result"
    }
   ],
   "source": [
    "r.json()['location']"
   ]
  },
  {
   "cell_type": "code",
   "execution_count": 6,
   "metadata": {},
   "outputs": [
    {
     "name": "stdout",
     "output_type": "stream",
     "text": [
      "60\n"
     ]
    },
    {
     "data": {
      "image/png": "[encoded data removed]",
      "text/plain": [
       "<Figure size 640x480 with 1 Axes>"
      ]
     },
     "metadata": {},
     "output_type": "display_data"
    },
    {
     "data": {
      "text/html": [
       "<div>\n",
       "<style scoped>\n",
       "    .dataframe tbody tr th:only-of-type {\n",
       "        vertical-align: middle;\n",
       "    }\n",
       "\n",
       "    .dataframe tbody tr th {\n",
       "        vertical-align: top;\n",
       "    }\n",
       "\n",
       "    .dataframe thead th {\n",
       "        text-align: right;\n",
       "    }\n",
       "</style>\n",
       "<table border=\"1\" class=\"dataframe\">\n",
       "  <thead>\n",
       "    <tr style=\"text-align: right;\">\n",
       "      <th></th>\n",
       "      <th>time</th>\n",
       "      <th>values.cloudBase</th>\n",
       "      <th>values.cloudCeiling</th>\n",
       "      <th>values.cloudCover</th>\n",
       "      <th>values.dewPoint</th>\n",
       "      <th>values.freezingRainIntensity</th>\n",
       "      <th>values.humidity</th>\n",
       "      <th>values.precipitationProbability</th>\n",
       "      <th>values.pressureSurfaceLevel</th>\n",
       "      <th>values.rainIntensity</th>\n",
       "      <th>...</th>\n",
       "      <th>values.snowIntensity</th>\n",
       "      <th>values.temperature</th>\n",
       "      <th>values.temperatureApparent</th>\n",
       "      <th>values.uvHealthConcern</th>\n",
       "      <th>values.uvIndex</th>\n",
       "      <th>values.visibility</th>\n",
       "      <th>values.weatherCode</th>\n",
       "      <th>values.windDirection</th>\n",
       "      <th>values.windGust</th>\n",
       "      <th>values.windSpeed</th>\n",
       "    </tr>\n",
       "  </thead>\n",
       "  <tbody>\n",
       "    <tr>\n",
       "      <th>0</th>\n",
       "      <td>2024-02-25 15:37:00+00:00</td>\n",
       "      <td>None</td>\n",
       "      <td>None</td>\n",
       "      <td>1.00</td>\n",
       "      <td>-18.88</td>\n",
       "      <td>0</td>\n",
       "      <td>39.00</td>\n",
       "      <td>0</td>\n",
       "      <td>1017.94</td>\n",
       "      <td>0</td>\n",
       "      <td>...</td>\n",
       "      <td>0</td>\n",
       "      <td>-3.50</td>\n",
       "      <td>-3.50</td>\n",
       "      <td>1</td>\n",
       "      <td>2</td>\n",
       "      <td>16</td>\n",
       "      <td>1000</td>\n",
       "      <td>297.5</td>\n",
       "      <td>1.88</td>\n",
       "      <td>0.69</td>\n",
       "    </tr>\n",
       "    <tr>\n",
       "      <th>1</th>\n",
       "      <td>2024-02-25 15:38:00+00:00</td>\n",
       "      <td>None</td>\n",
       "      <td>None</td>\n",
       "      <td>0.96</td>\n",
       "      <td>-18.80</td>\n",
       "      <td>0</td>\n",
       "      <td>38.70</td>\n",
       "      <td>0</td>\n",
       "      <td>1017.90</td>\n",
       "      <td>0</td>\n",
       "      <td>...</td>\n",
       "      <td>0</td>\n",
       "      <td>-3.44</td>\n",
       "      <td>-3.44</td>\n",
       "      <td>1</td>\n",
       "      <td>2</td>\n",
       "      <td>16</td>\n",
       "      <td>1000</td>\n",
       "      <td>297.5</td>\n",
       "      <td>1.89</td>\n",
       "      <td>0.77</td>\n",
       "    </tr>\n",
       "    <tr>\n",
       "      <th>2</th>\n",
       "      <td>2024-02-25 15:39:00+00:00</td>\n",
       "      <td>None</td>\n",
       "      <td>None</td>\n",
       "      <td>0.91</td>\n",
       "      <td>-18.73</td>\n",
       "      <td>0</td>\n",
       "      <td>38.41</td>\n",
       "      <td>0</td>\n",
       "      <td>1017.86</td>\n",
       "      <td>0</td>\n",
       "      <td>...</td>\n",
       "      <td>0</td>\n",
       "      <td>-3.37</td>\n",
       "      <td>-3.37</td>\n",
       "      <td>1</td>\n",
       "      <td>2</td>\n",
       "      <td>16</td>\n",
       "      <td>1000</td>\n",
       "      <td>297.5</td>\n",
       "      <td>1.91</td>\n",
       "      <td>0.85</td>\n",
       "    </tr>\n",
       "    <tr>\n",
       "      <th>3</th>\n",
       "      <td>2024-02-25 15:40:00+00:00</td>\n",
       "      <td>None</td>\n",
       "      <td>None</td>\n",
       "      <td>0.87</td>\n",
       "      <td>-18.66</td>\n",
       "      <td>0</td>\n",
       "      <td>38.11</td>\n",
       "      <td>0</td>\n",
       "      <td>1017.81</td>\n",
       "      <td>0</td>\n",
       "      <td>...</td>\n",
       "      <td>0</td>\n",
       "      <td>-3.31</td>\n",
       "      <td>-3.31</td>\n",
       "      <td>1</td>\n",
       "      <td>2</td>\n",
       "      <td>16</td>\n",
       "      <td>1000</td>\n",
       "      <td>297.5</td>\n",
       "      <td>1.93</td>\n",
       "      <td>0.94</td>\n",
       "    </tr>\n",
       "    <tr>\n",
       "      <th>4</th>\n",
       "      <td>2024-02-25 15:41:00+00:00</td>\n",
       "      <td>None</td>\n",
       "      <td>None</td>\n",
       "      <td>0.83</td>\n",
       "      <td>-18.59</td>\n",
       "      <td>0</td>\n",
       "      <td>37.81</td>\n",
       "      <td>0</td>\n",
       "      <td>1017.77</td>\n",
       "      <td>0</td>\n",
       "      <td>...</td>\n",
       "      <td>0</td>\n",
       "      <td>-3.25</td>\n",
       "      <td>-3.25</td>\n",
       "      <td>1</td>\n",
       "      <td>2</td>\n",
       "      <td>16</td>\n",
       "      <td>1000</td>\n",
       "      <td>297.5</td>\n",
       "      <td>1.94</td>\n",
       "      <td>1.02</td>\n",
       "    </tr>\n",
       "  </tbody>\n",
       "</table>\n",
       "<p>5 rows × 21 columns</p>\n",
       "</div>"
      ],
      "text/plain": [
       "                       time values.cloudBase values.cloudCeiling  \\\n",
       "0 2024-02-25 15:37:00+00:00             None                None   \n",
       "1 2024-02-25 15:38:00+00:00             None                None   \n",
       "2 2024-02-25 15:39:00+00:00             None                None   \n",
       "3 2024-02-25 15:40:00+00:00             None                None   \n",
       "4 2024-02-25 15:41:00+00:00             None                None   \n",
       "\n",
       "   values.cloudCover  values.dewPoint  values.freezingRainIntensity  \\\n",
       "0               1.00           -18.88                             0   \n",
       "1               0.96           -18.80                             0   \n",
       "2               0.91           -18.73                             0   \n",
       "3               0.87           -18.66                             0   \n",
       "4               0.83           -18.59                             0   \n",
       "\n",
       "   values.humidity  values.precipitationProbability  \\\n",
       "0            39.00                                0   \n",
       "1            38.70                                0   \n",
       "2            38.41                                0   \n",
       "3            38.11                                0   \n",
       "4            37.81                                0   \n",
       "\n",
       "   values.pressureSurfaceLevel  values.rainIntensity  ...  \\\n",
       "0                      1017.94                     0  ...   \n",
       "1                      1017.90                     0  ...   \n",
       "2                      1017.86                     0  ...   \n",
       "3                      1017.81                     0  ...   \n",
       "4                      1017.77                     0  ...   \n",
       "\n",
       "   values.snowIntensity  values.temperature  values.temperatureApparent  \\\n",
       "0                     0               -3.50                       -3.50   \n",
       "1                     0               -3.44                       -3.44   \n",
       "2                     0               -3.37                       -3.37   \n",
       "3                     0               -3.31                       -3.31   \n",
       "4                     0               -3.25                       -3.25   \n",
       "\n",
       "   values.uvHealthConcern  values.uvIndex  values.visibility  \\\n",
       "0                       1               2                 16   \n",
       "1                       1               2                 16   \n",
       "2                       1               2                 16   \n",
       "3                       1               2                 16   \n",
       "4                       1               2                 16   \n",
       "\n",
       "   values.weatherCode  values.windDirection  values.windGust  values.windSpeed  \n",
       "0                1000                 297.5             1.88              0.69  \n",
       "1                1000                 297.5             1.89              0.77  \n",
       "2                1000                 297.5             1.91              0.85  \n",
       "3                1000                 297.5             1.93              0.94  \n",
       "4                1000                 297.5             1.94              1.02  \n",
       "\n",
       "[5 rows x 21 columns]"
      ]
     },
     "execution_count": 6,
     "metadata": {},
     "output_type": "execute_result"
    }
   ],
   "source": [
    "data = pd.json_normalize(r.json()['timelines']['minutely'])\n",
    "print(len(data))\n",
    "\n",
    "data['time'] = pd.to_datetime(data['time'])\n",
    "plt.plot(data.time, data['values.windSpeed'])\n",
    "plt.show()\n",
    "data.head()"
   ]
  },
  {
   "cell_type": "code",
   "execution_count": 53,
   "metadata": {},
   "outputs": [
    {
     "name": "stdout",
     "output_type": "stream",
     "text": [
      "[42.328674, -72.664658]\n"
     ]
    }
   ],
   "source": [
    "# choose city\n",
    "city_key = 'Northampton'\n",
    "\n",
    "# get lat and long coordinates\n",
    "location = city_coordinates.loc[\n",
    "    city_coordinates.city.str.lower() == city_key.lower(), \n",
    "    ['longitude', 'latitude']\n",
    "].to_numpy().flatten().tolist()\n",
    "\n",
    "print(location)"
   ]
  },
  {
   "cell_type": "code",
   "execution_count": 44,
   "metadata": {},
   "outputs": [
    {
     "name": "stdout",
     "output_type": "stream",
     "text": [
      "https://api.tomorrow.io/v4/weather/forecast?location=42.3478,-71.0466&apikey=Spkfris4dB0T2vgoA63St81ITDEfLubv\n"
     ]
    },
    {
     "data": {
      "text/plain": [
       "200"
      ]
     },
     "execution_count": 44,
     "metadata": {},
     "output_type": "execute_result"
    }
   ],
   "source": [
    "URL = 'https://api.tomorrow.io/v4/weather/forecast?location=42.3478,-71.0466&apikey=Spkfris4dB0T2vgoA63St81ITDEfLubv'\n",
    "print(URL)\n",
    "\n",
    "r = requests.get(URL)\n",
    "r.status_code"
   ]
  },
  {
   "cell_type": "code",
   "execution_count": 48,
   "metadata": {},
   "outputs": [
    {
     "name": "stdout",
     "output_type": "stream",
     "text": [
      "https://api.tomorrow.io/v4/weather/forecast?location=42.3478,-71.0466&apikey=Spkfris4dB0T2vgoA63St81ITDEfLubv\n",
      "https://api.tomorrow.io/v4/weather/forecast?location=42.3478,-71.0466&apikey=Spkfris4dB0T2vgoA63St81ITDEfLubv\n",
      "200\n"
     ]
    }
   ],
   "source": [
    "load_dotenv()\n",
    "WEATHER_API_KEY = os.environ.get(\"WEATHER_API_KEY\")\n",
    "\n",
    "URL = 'https://api.tomorrow.io/v4/weather/forecast?location={lat},{long}&apikey={WEATHER_API_KEY}'.format(lat=lat, long=long, WEATHER_API_KEY=WEATHER_API_KEY)\n",
    "\n",
    "# lat, long = [42.3478,-71.0466]\n",
    "lat, long = location\n",
    "print('https://api.tomorrow.io/v4/weather/forecast?location={lat},{long}&apikey=Spkfris4dB0T2vgoA63St81ITDEfLubv'.format(lat=42.3478, long=-71.0466))\n",
    "print(URL)\n",
    "\n",
    "r = requests.get(URL)\n",
    "print(r.status_code)"
   ]
  },
  {
   "cell_type": "code",
   "execution_count": 57,
   "metadata": {},
   "outputs": [
    {
     "data": {
      "text/plain": [
       "{'location': [42.328674, -72.664658]}"
      ]
     },
     "execution_count": 57,
     "metadata": {},
     "output_type": "execute_result"
    }
   ],
   "source": [
    "body"
   ]
  },
  {
   "cell_type": "code",
   "execution_count": 56,
   "metadata": {},
   "outputs": [
    {
     "data": {
      "text/plain": [
       "{'message': 'no Route matched with those values'}"
      ]
     },
     "execution_count": 56,
     "metadata": {},
     "output_type": "execute_result"
    }
   ],
   "source": [
    "baseURL = \"https://api.tomorrow.io/v4/weather/forecast\"\n",
    "body = {\"location\": location} \n",
    "response = requests.post(f'{baseURL}?apikey={WEATHER_API_KEY}', json=body)\n",
    "data = response.json()\n",
    "data"
   ]
  },
  {
   "cell_type": "code",
   "execution_count": 37,
   "metadata": {},
   "outputs": [
    {
     "data": {
      "text/plain": [
       "{'message': 'no Route matched with those values'}"
      ]
     },
     "execution_count": 37,
     "metadata": {},
     "output_type": "execute_result"
    }
   ],
   "source": [
    "\n",
    "import datetime as dt\n",
    "import pytz\n",
    "import requests\n",
    "import matplotlib.pyplot as plt\n",
    "import pandas as pd\n",
    "\n",
    "# set the Historical API POST endpoint as the target URL\n",
    "postHistoricalURL = \"https://api.tomorrow.io/v4/weather/forecast\"\n",
    "\n",
    "# get your key from app.tomorrow.io/development/keys\n",
    "apikey = WEATHER_API_KEY\n",
    "\n",
    "# pick the location, as a latlong pair\n",
    "location = [42.63496561409271, -73.68988401705542]\n",
    "# location = [42.328674, -72.66465]\n",
    "\n",
    "# # list the fields\n",
    "# fields = [\n",
    "#     \"totalPrecipitationAccumulationMax\",\n",
    "#     \"windSpeedMax\",\n",
    "# \t\t\"windDirectionAvg\",\n",
    "# \t\t\"windGustMax\",\n",
    "#     \"snowAccumulationMax\"\n",
    "# ]\n",
    "# # choose the unit system, either metric or imperial\n",
    "# units = \"imperial\"\n",
    "\n",
    "# # set the timesteps, like \"current\", \"1h\" and \"1d\"\n",
    "# timesteps = [\"1d\"]\n",
    "\n",
    "# # configure the time frame within the historical bounderies (January 1st, 2015 till 7 days in the past)\n",
    "# now = dt.datetime.now(pytz.UTC)\n",
    "# startTime = '2020-12-01T12:00:00.000Z' #(now + dt.timedelta(days=-430)).isoformat()\n",
    "# endTime = '2020-12-20T12:00:00.000Z' #(now + dt.timedelta(days=-422)).isoformat()\n",
    "\n",
    "# # specify the timezone, using standard IANA timezone format\n",
    "# timezone = \"US/Eastern\"\n",
    "\n",
    "# request the historical timelines with all the body parameters as options\n",
    "body = {\"location\": location} #, \"fields\": fields, \"units\": units, \"timesteps\": timesteps, \"startTime\": startTime, \"endTime\": endTime, \"timezone\":timezone}\n",
    "response = requests.post(f'{postHistoricalURL}?apikey={apikey}', json=body)\n",
    "data = response.json()\n",
    "data\n",
    "# data = data[\"data\"][\"timelines\"]\n",
    "\n",
    "# # create a dataframe with the response values\n",
    "# df = pd.DataFrame()\n",
    "# for item in data:\n",
    "#     item = item[\"intervals\"]\n",
    "#     df = pd.json_normalize(item)\n",
    "# df.rename(columns={'startTime': 'Date'}, inplace=True)\n",
    "# df.Date = pd.to_datetime(df['Date'], format='%Y-%m-%d')\n",
    "\n",
    "# # bring your own data - we use mock data for the example\n",
    "# delays = [32, 20, 12, 16, 12, 12, 13, 23, 2, 3, 8, 5, 14, 30, 90, 100, 50, 30, 20, 11]\n",
    "# delayAvgDurationMin = [48, 40, 15, 16, 14, 10, 13, 4, 3, 7, 3, 8, 40, 190, 220, 110, 40, 50, 18, 90]\n",
    "# missedDeliveries = [10, 2, 1, 0, 0, 0, 0, 2, 0, 0, 0, 0, 2, 15, 90, 100, 50, 30, 20, 45]\n",
    "# routeAvgLength = [132, 240, 112, 36, 62, 32, 43, 37, 20, 19, 82, 67, 97, 112, 90, 57, 22, 49, 63, 143]\n",
    "# df['Delays'] = delays\n",
    "# df['Delay Avg Duration Min'] = delayAvgDurationMin\n",
    "# df['Missed Deliveries'] = missedDeliveries\n",
    "# df['Route Average Length'] = routeAvgLength\n",
    "\n",
    "# # visualize:\n",
    "# df.plot(x=\"Date\", y=[\"Delays\"])\n",
    "# df.plot(x=\"Date\", y=[\"values.snowAccumulationMax\"])\n",
    "# plt.show()\n",
    "# print('done')"
   ]
  },
  {
   "cell_type": "code",
   "execution_count": 36,
   "metadata": {},
   "outputs": [
    {
     "data": {
      "text/plain": [
       "'https://api.tomorrow.io/v4/weather/forecast?apikey=Spkfris4dB0T2vgoA63St81ITDEfLubv'"
      ]
     },
     "execution_count": 36,
     "metadata": {},
     "output_type": "execute_result"
    }
   ],
   "source": [
    "f'{postHistoricalURL}?apikey={apikey}'"
   ]
  },
  {
   "cell_type": "code",
   "execution_count": null,
   "metadata": {},
   "outputs": [],
   "source": []
  }
 ],
 "metadata": {
  "kernelspec": {
   "display_name": "Python 3.12.1 ('eda_env')",
   "language": "python",
   "name": "python3"
  },
  "language_info": {
   "codemirror_mode": {
    "name": "ipython",
    "version": 3
   },
   "file_extension": ".py",
   "mimetype": "text/x-python",
   "name": "python",
   "nbconvert_exporter": "python",
   "pygments_lexer": "ipython3",
   "version": "3.12.1"
  },
  "orig_nbformat": 4,
  "vscode": {
   "interpreter": {
    "hash": "5fcae1851d38a4aaf4eaac6f9b47e08f0d07f972bba83e950c85c41bae232ed3"
   }
  }
 },
 "nbformat": 4,
 "nbformat_minor": 2
}
